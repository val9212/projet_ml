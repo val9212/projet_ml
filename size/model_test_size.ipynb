{
 "cells": [
  {
   "cell_type": "code",
   "id": "initial_id",
   "metadata": {
    "collapsed": true,
    "ExecuteTime": {
     "end_time": "2024-12-30T22:37:46.952687Z",
     "start_time": "2024-12-30T22:37:46.585967Z"
    }
   },
   "source": [
    "import numpy as np\n",
    "from MTCFeatures import MTCFeatureLoader\n",
    "import pandas as pd\n",
    "from tqdm import tqdm\n",
    "from sklearn.preprocessing import LabelEncoder\n",
    "from sklearn.compose import ColumnTransformer\n",
    "from sklearn.preprocessing import OneHotEncoder, StandardScaler\n",
    "from fractions import Fraction\n",
    "from sklearn.neighbors import KNeighborsClassifier\n",
    "from sklearn.tree import DecisionTreeClassifier\n",
    "from sklearn.linear_model import SGDClassifier, LogisticRegression\n",
    "from sklearn.naive_bayes import GaussianNB\n",
    "from sklearn.ensemble import RandomForestClassifier\n",
    "import matplotlib.pyplot as plt\n",
    "from sklearn.model_selection import cross_val_score\n"
   ],
   "outputs": [],
   "execution_count": 1
  },
  {
   "metadata": {},
   "cell_type": "markdown",
   "source": "### Récupération des données",
   "id": "dc302b28f0a2b1c5"
  },
  {
   "metadata": {
    "ExecuteTime": {
     "end_time": "2024-12-30T22:37:46.967992Z",
     "start_time": "2024-12-30T22:37:46.956695Z"
    }
   },
   "cell_type": "code",
   "source": [
    "fl = MTCFeatureLoader('MTC-FS-INST-2.0')\n",
    "seqs = fl.sequences()"
   ],
   "id": "3ea0eefa290fd845",
   "outputs": [],
   "execution_count": 2
  },
  {
   "metadata": {},
   "cell_type": "markdown",
   "source": "### Récupération des informations des features de chaque séquence.",
   "id": "756c791641e05ac3"
  },
  {
   "metadata": {
    "ExecuteTime": {
     "end_time": "2024-12-30T22:37:58.190179Z",
     "start_time": "2024-12-30T22:37:47.347448Z"
    }
   },
   "cell_type": "code",
   "source": [
    "%%time\n",
    "phrase_data = []\n",
    "for ii, x in enumerate(seqs):\n",
    "    phrase_data.append({\n",
    "        'id': x['id'],\n",
    "        **x['features']\n",
    "    })"
   ],
   "id": "cadd049e9b196994",
   "outputs": [
    {
     "name": "stdout",
     "output_type": "stream",
     "text": [
      "CPU times: total: 9.7 s\n",
      "Wall time: 10.8 s\n"
     ]
    }
   ],
   "execution_count": 3
  },
  {
   "metadata": {
    "ExecuteTime": {
     "end_time": "2024-12-30T22:37:58.372474Z",
     "start_time": "2024-12-30T22:37:58.199995Z"
    }
   },
   "cell_type": "code",
   "source": "df = pd.DataFrame(phrase_data)",
   "id": "f5d2ac676e38f1a0",
   "outputs": [],
   "execution_count": 4
  },
  {
   "metadata": {},
   "cell_type": "markdown",
   "source": [
    "### Définition des modèles\n",
    "Modèles sur lesquels nous voulons tester l'impact du changement de la taille des sous-séquences.\n"
   ],
   "id": "ffaa02c49a4f54cd"
  },
  {
   "metadata": {
    "ExecuteTime": {
     "end_time": "2024-12-30T22:37:58.392082Z",
     "start_time": "2024-12-30T22:37:58.387700Z"
    }
   },
   "cell_type": "code",
   "source": [
    "models = [\n",
    "    KNeighborsClassifier(),\n",
    "    DecisionTreeClassifier(),\n",
    "    SGDClassifier(),\n",
    "    LogisticRegression(),\n",
    "    GaussianNB(),\n",
    "    RandomForestClassifier(),\n",
    "]\n",
    "\n",
    "models_names = [model.__class__.__name__ for model in models]"
   ],
   "id": "e45e4c8d3a5d5bb6",
   "outputs": [],
   "execution_count": 5
  },
  {
   "metadata": {},
   "cell_type": "markdown",
   "source": [
    "### Réduction du jeux de données\n",
    "Pour réaliser ces tests, nous réduisons la taille de notre jeu de données. Nous voulons qu'un quart.\n"
   ],
   "id": "24d2bf1381fbf39a"
  },
  {
   "metadata": {
    "ExecuteTime": {
     "end_time": "2024-12-30T22:37:58.444267Z",
     "start_time": "2024-12-30T22:37:58.409696Z"
    }
   },
   "cell_type": "code",
   "source": "df = df.sample(frac=1/4)",
   "id": "75edbb1bcc718568",
   "outputs": [],
   "execution_count": 6
  },
  {
   "metadata": {},
   "cell_type": "markdown",
   "source": [
    "### Création des sous sequences\n",
    "Taille et step à définir comme on veut."
   ],
   "id": "fa7eb3393d03f1b"
  },
  {
   "metadata": {
    "ExecuteTime": {
     "end_time": "2024-12-30T22:37:59.781846Z",
     "start_time": "2024-12-30T22:37:58.468789Z"
    }
   },
   "cell_type": "code",
   "source": [
    "numerical_columns = [ 'scaledegree', 'imaweigth', 'pitch40', 'midipitch', 'diatonicpitch', 'diatonicinterval', 'chromaticinterval', 'pitchproximity', 'pitchreversal', 'duration', 'onsettick', 'phrasepos', 'phrase_ix', 'songpos', 'IOI', 'IOR', 'beatstrength', 'beat_str', 'beat', 'timesignature', 'gpr2a_Frankland', 'gpr2b_Frankland', 'gpr3a_Frankland', 'gpr3d_Frankland', 'gpr_Frankland_sum', 'lbdm_spitch', 'lbdm_sioi', 'lbdm_srest', 'lbdm_rpitch', 'lbdm_rioi', 'lbdm_rrest', 'lbdm_boundarystrength']\n",
    "\n",
    "for col in numerical_columns:\n",
    "    if col in df.columns:\n",
    "        df[col] = df[col].apply(\n",
    "        lambda x: [0 if v is None else v for v in x]\n",
    "    )"
   ],
   "id": "7d1c5a8cdc566547",
   "outputs": [],
   "execution_count": 7
  },
  {
   "metadata": {},
   "cell_type": "markdown",
   "source": [
    "### Tailles des sous séquences\n",
    "Nous allons tester les modèles avec 6 tailles de sous-séquences différentes.\n",
    "\n"
   ],
   "id": "fa4719b88a0eaa60"
  },
  {
   "metadata": {
    "ExecuteTime": {
     "end_time": "2024-12-30T22:37:59.810424Z",
     "start_time": "2024-12-30T22:37:59.806382Z"
    }
   },
   "cell_type": "code",
   "source": "sizes = [2, 4, 6, 8, 10, 12]",
   "id": "ca2814afdddb7e7",
   "outputs": [],
   "execution_count": 8
  },
  {
   "metadata": {},
   "cell_type": "markdown",
   "source": [
    "### Création des sous sequences\n",
    "Le décalage est égal à la moitié de a la taille de la séquence.\n"
   ],
   "id": "f4c53ed9af140f88"
  },
  {
   "metadata": {
    "ExecuteTime": {
     "end_time": "2024-12-30T22:39:38.777224Z",
     "start_time": "2024-12-30T22:37:59.835552Z"
    }
   },
   "cell_type": "code",
   "source": [
    "subseq_l = []\n",
    "\n",
    "for size in sizes:\n",
    "    \n",
    "    step = int(size/2)\n",
    "    subsequences = []\n",
    "    labels = []\n",
    "    ids = []\n",
    "    list_columns = []\n",
    "    \n",
    "    for col in df.columns:\n",
    "        if col != 'id' and df[col].apply(lambda x: isinstance(x, list)).all():\n",
    "            list_columns.append(col) #prend les colonnes qui sont composées de liste\n",
    "    \n",
    "    for idx, row in tqdm(df.iterrows(), total=df.shape[0]):\n",
    "        song_id = row['id']\n",
    "        sequence_length = len(row['scaledegree'])\n",
    "    \n",
    "        if sequence_length == 0:\n",
    "            continue # Passage a la sequence suivante si ça taille est de 0\n",
    "        \n",
    "        #Parcours de séquences pour créer des sous-séquences.\n",
    "        start_idx = 0\n",
    "        while start_idx + size <= sequence_length: \n",
    "            end_idx = start_idx + size\n",
    "    \n",
    "            subseq = {}\n",
    "            for col in list_columns:\n",
    "                subseq[col] = row[col][start_idx:end_idx]\n",
    "            if len(subseq['scaledegree']) == size:\n",
    "                label = subseq['phrase_end'][-1] #Utilisation de la dernière valeur de phrase_end, pour labelliser la sous-séquence.\n",
    "                subsequences.append(subseq)\n",
    "                labels.append(label)\n",
    "                ids.append(song_id)\n",
    "    \n",
    "            start_idx += step\n",
    "        \n",
    "        # Dernière sous séquences\n",
    "        if start_idx < sequence_length:\n",
    "            end_idx = sequence_length\n",
    "    \n",
    "            subseq = {}\n",
    "            for col in list_columns:\n",
    "                subseq[col] = row[col][start_idx:end_idx]\n",
    "            if len(subseq['scaledegree']) == size:\n",
    "                label = subseq['phrase_end'][-1]\n",
    "                subsequences.append(subseq)\n",
    "                labels.append(label)\n",
    "                ids.append(song_id)\n",
    "    \n",
    "    subsequences = pd.DataFrame(subsequences)\n",
    "    subsequences['id'] = ids\n",
    "    subsequences['label'] = labels\n",
    "    \n",
    "    subseq_l.append(subsequences)"
   ],
   "id": "efa87178fdf2da29",
   "outputs": [
    {
     "name": "stderr",
     "output_type": "stream",
     "text": [
      "100%|██████████| 4527/4527 [00:40<00:00, 110.63it/s]\n",
      "100%|██████████| 4527/4527 [00:18<00:00, 240.13it/s]\n",
      "100%|██████████| 4527/4527 [00:12<00:00, 358.62it/s]\n",
      "100%|██████████| 4527/4527 [00:07<00:00, 587.79it/s]\n",
      "100%|██████████| 4527/4527 [00:09<00:00, 478.12it/s]\n",
      "100%|██████████| 4527/4527 [00:05<00:00, 852.84it/s]\n"
     ]
    }
   ],
   "execution_count": 9
  },
  {
   "metadata": {},
   "cell_type": "markdown",
   "source": [
    "### Choix des features à utiliser\n",
    "Sélection des features, puis on étend les listes de sous-séquences. "
   ],
   "id": "42a3b9261ed77cef"
  },
  {
   "metadata": {
    "ExecuteTime": {
     "end_time": "2024-12-30T22:40:21.077995Z",
     "start_time": "2024-12-30T22:39:38.812582Z"
    }
   },
   "cell_type": "code",
   "source": [
    "feature_columns = [\"duration\", \"beatinphrase\", 'restduration_frac', \"beatinphrase_end\", \"IOI\", \"beatstrength\", \"gpr2b_Frankland\", \"gpr_Frankland_sum\", \"lbdm_srest\", \"lbdm_boundarystrength\", \"pitch40\", 'imaweight']\n",
    "\n",
    "features_list = []\n",
    "for subsequences in subseq_l:\n",
    "    feature_arrays = []\n",
    "    for idx, row in tqdm(subsequences.iterrows(), total=subsequences.shape[0], desc=\"Processing subsequences\"):\n",
    "        feature_vector = []\n",
    "        for col in feature_columns:\n",
    "            feature_vector.extend(row[col]) #on étend les sequences.\n",
    "        feature_arrays.append(feature_vector)\n",
    "    \n",
    "    features = np.array(feature_arrays)\n",
    "    labels = np.array(subsequences['label'])\n",
    "    ids = np.array(subsequences['id'])\n",
    "    \n",
    "    label_encoder = LabelEncoder()\n",
    "    labels = label_encoder.fit_transform(labels)\n",
    "\n",
    "    features_list.append((features, labels))"
   ],
   "id": "e2b60f10efb5b471",
   "outputs": [
    {
     "name": "stderr",
     "output_type": "stream",
     "text": [
      "Processing subsequences: 100%|██████████| 322252/322252 [00:16<00:00, 19145.29it/s]\n",
      "Processing subsequences: 100%|██████████| 157813/157813 [00:08<00:00, 19323.98it/s]\n",
      "Processing subsequences: 100%|██████████| 102918/102918 [00:05<00:00, 19111.97it/s]\n",
      "Processing subsequences: 100%|██████████| 75507/75507 [00:03<00:00, 19197.72it/s]\n",
      "Processing subsequences: 100%|██████████| 59010/59010 [00:03<00:00, 18643.61it/s]\n",
      "Processing subsequences: 100%|██████████| 48085/48085 [00:02<00:00, 18855.81it/s]\n"
     ]
    }
   ],
   "execution_count": 10
  },
  {
   "metadata": {},
   "cell_type": "markdown",
   "source": [
    "### Formatage des données\n",
    "Transformation des fractions en valeur numérique, transformation des données catégorielles et normalisation.\n"
   ],
   "id": "5ac10b1555a8adec"
  },
  {
   "metadata": {
    "ExecuteTime": {
     "end_time": "2024-12-30T22:40:42.310591Z",
     "start_time": "2024-12-30T22:40:21.112967Z"
    }
   },
   "cell_type": "code",
   "source": [
    "final_features_l = []\n",
    "for features, labels in features_list:\n",
    "    for x in range(features.shape[1]):\n",
    "        features[:, x] = [\n",
    "            float(Fraction(value)) if isinstance(value, str) and '/' in value else\n",
    "            float(value) if value is not None else 0.0  # Remplacement des None par 0.0\n",
    "            for value in features[:, x]\n",
    "        ]\n",
    "            \n",
    "    cat_columns = [] #index des colones catégorielles\n",
    "    num_columns = [] #index des colones numériques a normaliser\n",
    "    \n",
    "    preprocessor = ColumnTransformer(\n",
    "        transformers=[\n",
    "            ('cat', OneHotEncoder(sparse_output=False), cat_columns),  # Encodage catégoriel\n",
    "            ('num', StandardScaler(), num_columns)  # Normalisation \n",
    "        ],\n",
    "        remainder='passthrough' #données non modifiées\n",
    "    )\n",
    "    \n",
    "    final_features = preprocessor.fit_transform(features)\n",
    "    final_features_l.append((final_features, labels))"
   ],
   "id": "4aea186490c351b",
   "outputs": [],
   "execution_count": 11
  },
  {
   "metadata": {},
   "cell_type": "markdown",
   "source": [
    "### Entrainement des modeles\n",
    "Utilisation de cross_val_score pour entraîner nos modèles et récupérer leurs scores.\n"
   ],
   "id": "29b147eda620d3d4"
  },
  {
   "metadata": {
    "ExecuteTime": {
     "end_time": "2024-12-30T22:55:49.085386Z",
     "start_time": "2024-12-30T22:40:42.347897Z"
    }
   },
   "cell_type": "code",
   "source": [
    "scores_per_size = {name: [] for name in models_names}\n",
    "\n",
    "for subsample in final_features_l:\n",
    "    X_subsample, y_subsample = subsample\n",
    "\n",
    "    for method, name in zip(models, models_names):\n",
    "        scores = cross_val_score(method, X_subsample, y_subsample, cv=5)\n",
    "        scores_per_size[name].append(scores)"
   ],
   "id": "67cd53f85c5c8f97",
   "outputs": [
    {
     "name": "stderr",
     "output_type": "stream",
     "text": [
      "C:\\Users\\val92\\AppData\\Local\\Programs\\Python\\Python311\\Lib\\site-packages\\sklearn\\linear_model\\_logistic.py:469: ConvergenceWarning: lbfgs failed to converge (status=1):\n",
      "STOP: TOTAL NO. of ITERATIONS REACHED LIMIT.\n",
      "\n",
      "Increase the number of iterations (max_iter) or scale the data as shown in:\n",
      "    https://scikit-learn.org/stable/modules/preprocessing.html\n",
      "Please also refer to the documentation for alternative solver options:\n",
      "    https://scikit-learn.org/stable/modules/linear_model.html#logistic-regression\n",
      "  n_iter_i = _check_optimize_result(\n",
      "C:\\Users\\val92\\AppData\\Local\\Programs\\Python\\Python311\\Lib\\site-packages\\sklearn\\linear_model\\_logistic.py:469: ConvergenceWarning: lbfgs failed to converge (status=1):\n",
      "STOP: TOTAL NO. of ITERATIONS REACHED LIMIT.\n",
      "\n",
      "Increase the number of iterations (max_iter) or scale the data as shown in:\n",
      "    https://scikit-learn.org/stable/modules/preprocessing.html\n",
      "Please also refer to the documentation for alternative solver options:\n",
      "    https://scikit-learn.org/stable/modules/linear_model.html#logistic-regression\n",
      "  n_iter_i = _check_optimize_result(\n",
      "C:\\Users\\val92\\AppData\\Local\\Programs\\Python\\Python311\\Lib\\site-packages\\sklearn\\linear_model\\_logistic.py:469: ConvergenceWarning: lbfgs failed to converge (status=1):\n",
      "STOP: TOTAL NO. of ITERATIONS REACHED LIMIT.\n",
      "\n",
      "Increase the number of iterations (max_iter) or scale the data as shown in:\n",
      "    https://scikit-learn.org/stable/modules/preprocessing.html\n",
      "Please also refer to the documentation for alternative solver options:\n",
      "    https://scikit-learn.org/stable/modules/linear_model.html#logistic-regression\n",
      "  n_iter_i = _check_optimize_result(\n",
      "C:\\Users\\val92\\AppData\\Local\\Programs\\Python\\Python311\\Lib\\site-packages\\sklearn\\linear_model\\_logistic.py:469: ConvergenceWarning: lbfgs failed to converge (status=1):\n",
      "STOP: TOTAL NO. of ITERATIONS REACHED LIMIT.\n",
      "\n",
      "Increase the number of iterations (max_iter) or scale the data as shown in:\n",
      "    https://scikit-learn.org/stable/modules/preprocessing.html\n",
      "Please also refer to the documentation for alternative solver options:\n",
      "    https://scikit-learn.org/stable/modules/linear_model.html#logistic-regression\n",
      "  n_iter_i = _check_optimize_result(\n",
      "C:\\Users\\val92\\AppData\\Local\\Programs\\Python\\Python311\\Lib\\site-packages\\sklearn\\linear_model\\_logistic.py:469: ConvergenceWarning: lbfgs failed to converge (status=1):\n",
      "STOP: TOTAL NO. of ITERATIONS REACHED LIMIT.\n",
      "\n",
      "Increase the number of iterations (max_iter) or scale the data as shown in:\n",
      "    https://scikit-learn.org/stable/modules/preprocessing.html\n",
      "Please also refer to the documentation for alternative solver options:\n",
      "    https://scikit-learn.org/stable/modules/linear_model.html#logistic-regression\n",
      "  n_iter_i = _check_optimize_result(\n",
      "C:\\Users\\val92\\AppData\\Local\\Programs\\Python\\Python311\\Lib\\site-packages\\sklearn\\linear_model\\_logistic.py:469: ConvergenceWarning: lbfgs failed to converge (status=1):\n",
      "STOP: TOTAL NO. of ITERATIONS REACHED LIMIT.\n",
      "\n",
      "Increase the number of iterations (max_iter) or scale the data as shown in:\n",
      "    https://scikit-learn.org/stable/modules/preprocessing.html\n",
      "Please also refer to the documentation for alternative solver options:\n",
      "    https://scikit-learn.org/stable/modules/linear_model.html#logistic-regression\n",
      "  n_iter_i = _check_optimize_result(\n",
      "C:\\Users\\val92\\AppData\\Local\\Programs\\Python\\Python311\\Lib\\site-packages\\sklearn\\linear_model\\_logistic.py:469: ConvergenceWarning: lbfgs failed to converge (status=1):\n",
      "STOP: TOTAL NO. of ITERATIONS REACHED LIMIT.\n",
      "\n",
      "Increase the number of iterations (max_iter) or scale the data as shown in:\n",
      "    https://scikit-learn.org/stable/modules/preprocessing.html\n",
      "Please also refer to the documentation for alternative solver options:\n",
      "    https://scikit-learn.org/stable/modules/linear_model.html#logistic-regression\n",
      "  n_iter_i = _check_optimize_result(\n",
      "C:\\Users\\val92\\AppData\\Local\\Programs\\Python\\Python311\\Lib\\site-packages\\sklearn\\linear_model\\_logistic.py:469: ConvergenceWarning: lbfgs failed to converge (status=1):\n",
      "STOP: TOTAL NO. of ITERATIONS REACHED LIMIT.\n",
      "\n",
      "Increase the number of iterations (max_iter) or scale the data as shown in:\n",
      "    https://scikit-learn.org/stable/modules/preprocessing.html\n",
      "Please also refer to the documentation for alternative solver options:\n",
      "    https://scikit-learn.org/stable/modules/linear_model.html#logistic-regression\n",
      "  n_iter_i = _check_optimize_result(\n",
      "C:\\Users\\val92\\AppData\\Local\\Programs\\Python\\Python311\\Lib\\site-packages\\sklearn\\linear_model\\_logistic.py:469: ConvergenceWarning: lbfgs failed to converge (status=1):\n",
      "STOP: TOTAL NO. of ITERATIONS REACHED LIMIT.\n",
      "\n",
      "Increase the number of iterations (max_iter) or scale the data as shown in:\n",
      "    https://scikit-learn.org/stable/modules/preprocessing.html\n",
      "Please also refer to the documentation for alternative solver options:\n",
      "    https://scikit-learn.org/stable/modules/linear_model.html#logistic-regression\n",
      "  n_iter_i = _check_optimize_result(\n",
      "C:\\Users\\val92\\AppData\\Local\\Programs\\Python\\Python311\\Lib\\site-packages\\sklearn\\linear_model\\_logistic.py:469: ConvergenceWarning: lbfgs failed to converge (status=1):\n",
      "STOP: TOTAL NO. of ITERATIONS REACHED LIMIT.\n",
      "\n",
      "Increase the number of iterations (max_iter) or scale the data as shown in:\n",
      "    https://scikit-learn.org/stable/modules/preprocessing.html\n",
      "Please also refer to the documentation for alternative solver options:\n",
      "    https://scikit-learn.org/stable/modules/linear_model.html#logistic-regression\n",
      "  n_iter_i = _check_optimize_result(\n",
      "C:\\Users\\val92\\AppData\\Local\\Programs\\Python\\Python311\\Lib\\site-packages\\sklearn\\linear_model\\_logistic.py:469: ConvergenceWarning: lbfgs failed to converge (status=1):\n",
      "STOP: TOTAL NO. of ITERATIONS REACHED LIMIT.\n",
      "\n",
      "Increase the number of iterations (max_iter) or scale the data as shown in:\n",
      "    https://scikit-learn.org/stable/modules/preprocessing.html\n",
      "Please also refer to the documentation for alternative solver options:\n",
      "    https://scikit-learn.org/stable/modules/linear_model.html#logistic-regression\n",
      "  n_iter_i = _check_optimize_result(\n",
      "C:\\Users\\val92\\AppData\\Local\\Programs\\Python\\Python311\\Lib\\site-packages\\sklearn\\linear_model\\_logistic.py:469: ConvergenceWarning: lbfgs failed to converge (status=1):\n",
      "STOP: TOTAL NO. of ITERATIONS REACHED LIMIT.\n",
      "\n",
      "Increase the number of iterations (max_iter) or scale the data as shown in:\n",
      "    https://scikit-learn.org/stable/modules/preprocessing.html\n",
      "Please also refer to the documentation for alternative solver options:\n",
      "    https://scikit-learn.org/stable/modules/linear_model.html#logistic-regression\n",
      "  n_iter_i = _check_optimize_result(\n",
      "C:\\Users\\val92\\AppData\\Local\\Programs\\Python\\Python311\\Lib\\site-packages\\sklearn\\linear_model\\_logistic.py:469: ConvergenceWarning: lbfgs failed to converge (status=1):\n",
      "STOP: TOTAL NO. of ITERATIONS REACHED LIMIT.\n",
      "\n",
      "Increase the number of iterations (max_iter) or scale the data as shown in:\n",
      "    https://scikit-learn.org/stable/modules/preprocessing.html\n",
      "Please also refer to the documentation for alternative solver options:\n",
      "    https://scikit-learn.org/stable/modules/linear_model.html#logistic-regression\n",
      "  n_iter_i = _check_optimize_result(\n",
      "C:\\Users\\val92\\AppData\\Local\\Programs\\Python\\Python311\\Lib\\site-packages\\sklearn\\linear_model\\_logistic.py:469: ConvergenceWarning: lbfgs failed to converge (status=1):\n",
      "STOP: TOTAL NO. of ITERATIONS REACHED LIMIT.\n",
      "\n",
      "Increase the number of iterations (max_iter) or scale the data as shown in:\n",
      "    https://scikit-learn.org/stable/modules/preprocessing.html\n",
      "Please also refer to the documentation for alternative solver options:\n",
      "    https://scikit-learn.org/stable/modules/linear_model.html#logistic-regression\n",
      "  n_iter_i = _check_optimize_result(\n",
      "C:\\Users\\val92\\AppData\\Local\\Programs\\Python\\Python311\\Lib\\site-packages\\sklearn\\linear_model\\_logistic.py:469: ConvergenceWarning: lbfgs failed to converge (status=1):\n",
      "STOP: TOTAL NO. of ITERATIONS REACHED LIMIT.\n",
      "\n",
      "Increase the number of iterations (max_iter) or scale the data as shown in:\n",
      "    https://scikit-learn.org/stable/modules/preprocessing.html\n",
      "Please also refer to the documentation for alternative solver options:\n",
      "    https://scikit-learn.org/stable/modules/linear_model.html#logistic-regression\n",
      "  n_iter_i = _check_optimize_result(\n",
      "C:\\Users\\val92\\AppData\\Local\\Programs\\Python\\Python311\\Lib\\site-packages\\sklearn\\linear_model\\_logistic.py:469: ConvergenceWarning: lbfgs failed to converge (status=1):\n",
      "STOP: TOTAL NO. of ITERATIONS REACHED LIMIT.\n",
      "\n",
      "Increase the number of iterations (max_iter) or scale the data as shown in:\n",
      "    https://scikit-learn.org/stable/modules/preprocessing.html\n",
      "Please also refer to the documentation for alternative solver options:\n",
      "    https://scikit-learn.org/stable/modules/linear_model.html#logistic-regression\n",
      "  n_iter_i = _check_optimize_result(\n",
      "C:\\Users\\val92\\AppData\\Local\\Programs\\Python\\Python311\\Lib\\site-packages\\sklearn\\linear_model\\_logistic.py:469: ConvergenceWarning: lbfgs failed to converge (status=1):\n",
      "STOP: TOTAL NO. of ITERATIONS REACHED LIMIT.\n",
      "\n",
      "Increase the number of iterations (max_iter) or scale the data as shown in:\n",
      "    https://scikit-learn.org/stable/modules/preprocessing.html\n",
      "Please also refer to the documentation for alternative solver options:\n",
      "    https://scikit-learn.org/stable/modules/linear_model.html#logistic-regression\n",
      "  n_iter_i = _check_optimize_result(\n",
      "C:\\Users\\val92\\AppData\\Local\\Programs\\Python\\Python311\\Lib\\site-packages\\sklearn\\linear_model\\_logistic.py:469: ConvergenceWarning: lbfgs failed to converge (status=1):\n",
      "STOP: TOTAL NO. of ITERATIONS REACHED LIMIT.\n",
      "\n",
      "Increase the number of iterations (max_iter) or scale the data as shown in:\n",
      "    https://scikit-learn.org/stable/modules/preprocessing.html\n",
      "Please also refer to the documentation for alternative solver options:\n",
      "    https://scikit-learn.org/stable/modules/linear_model.html#logistic-regression\n",
      "  n_iter_i = _check_optimize_result(\n",
      "C:\\Users\\val92\\AppData\\Local\\Programs\\Python\\Python311\\Lib\\site-packages\\sklearn\\linear_model\\_logistic.py:469: ConvergenceWarning: lbfgs failed to converge (status=1):\n",
      "STOP: TOTAL NO. of ITERATIONS REACHED LIMIT.\n",
      "\n",
      "Increase the number of iterations (max_iter) or scale the data as shown in:\n",
      "    https://scikit-learn.org/stable/modules/preprocessing.html\n",
      "Please also refer to the documentation for alternative solver options:\n",
      "    https://scikit-learn.org/stable/modules/linear_model.html#logistic-regression\n",
      "  n_iter_i = _check_optimize_result(\n",
      "C:\\Users\\val92\\AppData\\Local\\Programs\\Python\\Python311\\Lib\\site-packages\\sklearn\\linear_model\\_logistic.py:469: ConvergenceWarning: lbfgs failed to converge (status=1):\n",
      "STOP: TOTAL NO. of ITERATIONS REACHED LIMIT.\n",
      "\n",
      "Increase the number of iterations (max_iter) or scale the data as shown in:\n",
      "    https://scikit-learn.org/stable/modules/preprocessing.html\n",
      "Please also refer to the documentation for alternative solver options:\n",
      "    https://scikit-learn.org/stable/modules/linear_model.html#logistic-regression\n",
      "  n_iter_i = _check_optimize_result(\n",
      "C:\\Users\\val92\\AppData\\Local\\Programs\\Python\\Python311\\Lib\\site-packages\\sklearn\\linear_model\\_logistic.py:469: ConvergenceWarning: lbfgs failed to converge (status=1):\n",
      "STOP: TOTAL NO. of ITERATIONS REACHED LIMIT.\n",
      "\n",
      "Increase the number of iterations (max_iter) or scale the data as shown in:\n",
      "    https://scikit-learn.org/stable/modules/preprocessing.html\n",
      "Please also refer to the documentation for alternative solver options:\n",
      "    https://scikit-learn.org/stable/modules/linear_model.html#logistic-regression\n",
      "  n_iter_i = _check_optimize_result(\n",
      "C:\\Users\\val92\\AppData\\Local\\Programs\\Python\\Python311\\Lib\\site-packages\\sklearn\\linear_model\\_logistic.py:469: ConvergenceWarning: lbfgs failed to converge (status=1):\n",
      "STOP: TOTAL NO. of ITERATIONS REACHED LIMIT.\n",
      "\n",
      "Increase the number of iterations (max_iter) or scale the data as shown in:\n",
      "    https://scikit-learn.org/stable/modules/preprocessing.html\n",
      "Please also refer to the documentation for alternative solver options:\n",
      "    https://scikit-learn.org/stable/modules/linear_model.html#logistic-regression\n",
      "  n_iter_i = _check_optimize_result(\n",
      "C:\\Users\\val92\\AppData\\Local\\Programs\\Python\\Python311\\Lib\\site-packages\\sklearn\\linear_model\\_logistic.py:469: ConvergenceWarning: lbfgs failed to converge (status=1):\n",
      "STOP: TOTAL NO. of ITERATIONS REACHED LIMIT.\n",
      "\n",
      "Increase the number of iterations (max_iter) or scale the data as shown in:\n",
      "    https://scikit-learn.org/stable/modules/preprocessing.html\n",
      "Please also refer to the documentation for alternative solver options:\n",
      "    https://scikit-learn.org/stable/modules/linear_model.html#logistic-regression\n",
      "  n_iter_i = _check_optimize_result(\n",
      "C:\\Users\\val92\\AppData\\Local\\Programs\\Python\\Python311\\Lib\\site-packages\\sklearn\\linear_model\\_logistic.py:469: ConvergenceWarning: lbfgs failed to converge (status=1):\n",
      "STOP: TOTAL NO. of ITERATIONS REACHED LIMIT.\n",
      "\n",
      "Increase the number of iterations (max_iter) or scale the data as shown in:\n",
      "    https://scikit-learn.org/stable/modules/preprocessing.html\n",
      "Please also refer to the documentation for alternative solver options:\n",
      "    https://scikit-learn.org/stable/modules/linear_model.html#logistic-regression\n",
      "  n_iter_i = _check_optimize_result(\n",
      "C:\\Users\\val92\\AppData\\Local\\Programs\\Python\\Python311\\Lib\\site-packages\\sklearn\\linear_model\\_logistic.py:469: ConvergenceWarning: lbfgs failed to converge (status=1):\n",
      "STOP: TOTAL NO. of ITERATIONS REACHED LIMIT.\n",
      "\n",
      "Increase the number of iterations (max_iter) or scale the data as shown in:\n",
      "    https://scikit-learn.org/stable/modules/preprocessing.html\n",
      "Please also refer to the documentation for alternative solver options:\n",
      "    https://scikit-learn.org/stable/modules/linear_model.html#logistic-regression\n",
      "  n_iter_i = _check_optimize_result(\n",
      "C:\\Users\\val92\\AppData\\Local\\Programs\\Python\\Python311\\Lib\\site-packages\\sklearn\\linear_model\\_logistic.py:469: ConvergenceWarning: lbfgs failed to converge (status=1):\n",
      "STOP: TOTAL NO. of ITERATIONS REACHED LIMIT.\n",
      "\n",
      "Increase the number of iterations (max_iter) or scale the data as shown in:\n",
      "    https://scikit-learn.org/stable/modules/preprocessing.html\n",
      "Please also refer to the documentation for alternative solver options:\n",
      "    https://scikit-learn.org/stable/modules/linear_model.html#logistic-regression\n",
      "  n_iter_i = _check_optimize_result(\n",
      "C:\\Users\\val92\\AppData\\Local\\Programs\\Python\\Python311\\Lib\\site-packages\\sklearn\\linear_model\\_logistic.py:469: ConvergenceWarning: lbfgs failed to converge (status=1):\n",
      "STOP: TOTAL NO. of ITERATIONS REACHED LIMIT.\n",
      "\n",
      "Increase the number of iterations (max_iter) or scale the data as shown in:\n",
      "    https://scikit-learn.org/stable/modules/preprocessing.html\n",
      "Please also refer to the documentation for alternative solver options:\n",
      "    https://scikit-learn.org/stable/modules/linear_model.html#logistic-regression\n",
      "  n_iter_i = _check_optimize_result(\n",
      "C:\\Users\\val92\\AppData\\Local\\Programs\\Python\\Python311\\Lib\\site-packages\\sklearn\\linear_model\\_logistic.py:469: ConvergenceWarning: lbfgs failed to converge (status=1):\n",
      "STOP: TOTAL NO. of ITERATIONS REACHED LIMIT.\n",
      "\n",
      "Increase the number of iterations (max_iter) or scale the data as shown in:\n",
      "    https://scikit-learn.org/stable/modules/preprocessing.html\n",
      "Please also refer to the documentation for alternative solver options:\n",
      "    https://scikit-learn.org/stable/modules/linear_model.html#logistic-regression\n",
      "  n_iter_i = _check_optimize_result(\n",
      "C:\\Users\\val92\\AppData\\Local\\Programs\\Python\\Python311\\Lib\\site-packages\\sklearn\\linear_model\\_logistic.py:469: ConvergenceWarning: lbfgs failed to converge (status=1):\n",
      "STOP: TOTAL NO. of ITERATIONS REACHED LIMIT.\n",
      "\n",
      "Increase the number of iterations (max_iter) or scale the data as shown in:\n",
      "    https://scikit-learn.org/stable/modules/preprocessing.html\n",
      "Please also refer to the documentation for alternative solver options:\n",
      "    https://scikit-learn.org/stable/modules/linear_model.html#logistic-regression\n",
      "  n_iter_i = _check_optimize_result(\n",
      "C:\\Users\\val92\\AppData\\Local\\Programs\\Python\\Python311\\Lib\\site-packages\\sklearn\\linear_model\\_logistic.py:469: ConvergenceWarning: lbfgs failed to converge (status=1):\n",
      "STOP: TOTAL NO. of ITERATIONS REACHED LIMIT.\n",
      "\n",
      "Increase the number of iterations (max_iter) or scale the data as shown in:\n",
      "    https://scikit-learn.org/stable/modules/preprocessing.html\n",
      "Please also refer to the documentation for alternative solver options:\n",
      "    https://scikit-learn.org/stable/modules/linear_model.html#logistic-regression\n",
      "  n_iter_i = _check_optimize_result(\n"
     ]
    }
   ],
   "execution_count": 12
  },
  {
   "metadata": {},
   "cell_type": "markdown",
   "source": [
    "### visualisation des résultats\n",
    "Graphique montrant l'évolution des scores moyens en fonction de la taille des sous-séquences."
   ],
   "id": "1db1de2dc8bbbea8"
  },
  {
   "metadata": {
    "ExecuteTime": {
     "end_time": "2024-12-30T22:55:49.379258Z",
     "start_time": "2024-12-30T22:55:49.137903Z"
    }
   },
   "cell_type": "code",
   "source": [
    "for model in models_names :\n",
    "    model_results = scores_per_size[model]\n",
    "    means = [np.mean(scores) for scores in model_results]\n",
    "    stds = [np.std(scores) for scores in model_results]\n",
    "    \n",
    "    plt.plot(sizes, means, label=model)\n",
    "    \n",
    "    plt.fill_between(sizes, \n",
    "                     np.array(means) - np.array(stds), \n",
    "                     np.array(means) + np.array(stds), alpha=0.2)\n",
    "\n",
    "plt.title(\"Performance des modèles en fonction de la taille des sous séquences\")\n",
    "plt.xlabel(\"Tailles des sous-séquences\")\n",
    "plt.ylabel(\"Score moyen\")\n",
    "plt.legend()"
   ],
   "id": "c8a96130dbabba68",
   "outputs": [
    {
     "data": {
      "text/plain": [
       "<matplotlib.legend.Legend at 0x2b7e6129d10>"
      ]
     },
     "execution_count": 13,
     "metadata": {},
     "output_type": "execute_result"
    },
    {
     "data": {
      "text/plain": [
       "<Figure size 640x480 with 1 Axes>"
      ],
      "image/png": "[encoded data removed]"
     },
     "metadata": {},
     "output_type": "display_data"
    }
   ],
   "execution_count": 13
  }
 ],
 "metadata": {
  "kernelspec": {
   "display_name": "Python 3",
   "language": "python",
   "name": "python3"
  },
  "language_info": {
   "codemirror_mode": {
    "name": "ipython",
    "version": 2
   },
   "file_extension": ".py",
   "mimetype": "text/x-python",
   "name": "python",
   "nbconvert_exporter": "python",
   "pygments_lexer": "ipython2",
   "version": "2.7.6"
  }
 },
 "nbformat": 4,
 "nbformat_minor": 5
}
