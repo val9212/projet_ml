{
 "cells": [
  {
   "cell_type": "code",
   "execution_count": null,
   "id": "initial_id",
   "metadata": {
    "collapsed": true
   },
   "outputs": [],
   "source": [
    "def create_subsequences(data, seq_length, target_col):\n",
    "    subsequences = []\n",
    "    targets = []\n",
    "    for i in range(len(data) - seq_length):\n",
    "        subsequences.append(data.iloc[i:i + seq_length].drop(columns=[target_col]).values)\n",
    "        targets.append(data.iloc[i + seq_length - 1][target_col])\n",
    "    return np.array(subsequences), np.array(targets)"
   ]
  },
  {
   "metadata": {},
   "cell_type": "code",
   "outputs": [],
   "execution_count": null,
   "source": "",
   "id": "3ea0eefa290fd845"
  }
 ],
 "metadata": {
  "kernelspec": {
   "display_name": "Python 3",
   "language": "python",
   "name": "python3"
  },
  "language_info": {
   "codemirror_mode": {
    "name": "ipython",
    "version": 2
   },
   "file_extension": ".py",
   "mimetype": "text/x-python",
   "name": "python",
   "nbconvert_exporter": "python",
   "pygments_lexer": "ipython2",
   "version": "2.7.6"
  }
 },
 "nbformat": 4,
 "nbformat_minor": 5
}
